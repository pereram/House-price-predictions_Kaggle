{
 "cells": [
  {
   "cell_type": "markdown",
   "metadata": {},
   "source": [
    "# Predicting sale prices of houses - Part B"
   ]
  },
  {
   "cell_type": "markdown",
   "metadata": {},
   "source": [
    "Welcome to Part B of predicting sale prices project.In this notebook we will use regularized linear regression models such as Ridge, Lasso from sci-kit learn.\n",
    "\n",
    "We start by importing the two modules that are required to read and store the data as a Data Frame."
   ]
  },
  {
   "cell_type": "code",
   "execution_count": 1,
   "metadata": {
    "collapsed": true
   },
   "outputs": [],
   "source": [
    "import os\n",
    "import pandas as pd"
   ]
  },
  {
   "cell_type": "markdown",
   "metadata": {},
   "source": [
    "Reading and storing the data to a data frame"
   ]
  },
  {
   "cell_type": "code",
   "execution_count": 2,
   "metadata": {
    "collapsed": true
   },
   "outputs": [],
   "source": [
    "train_data=pd.read_csv(os.path.join('data set','train.csv'))"
   ]
  },
  {
   "cell_type": "markdown",
   "metadata": {},
   "source": [
    "# Making skewed features into normal "
   ]
  },
  {
   "cell_type": "markdown",
   "metadata": {},
   "source": [
    "From previous analysis, we already learnt that the 'SalePrice' or targer feature values are skewed.Here, we will take the logarithmic of 'SalePrice' and try to compare it's distribution."
   ]
  },
  {
   "cell_type": "code",
   "execution_count": 3,
   "metadata": {
    "collapsed": true
   },
   "outputs": [],
   "source": [
    "import numpy as np\n",
    "\n",
    "salePrice=pd.DataFrame({'Sale Price':train_data['SalePrice'],'log scale price':np.log1p(train_data['SalePrice'])})"
   ]
  },
  {
   "cell_type": "markdown",
   "metadata": {},
   "source": [
    "Plotting the distribution."
   ]
  },
  {
   "cell_type": "code",
   "execution_count": 4,
   "metadata": {},
   "outputs": [
    {
     "data": {
      "text/plain": [
       "<matplotlib.figure.Figure at 0x5ea7767ef0>"
      ]
     },
     "metadata": {},
     "output_type": "display_data"
    },
    {
     "data": {
      "image/png": "[encoded data removed]",
      "text/plain": [
       "<matplotlib.figure.Figure at 0x5ea76be278>"
      ]
     },
     "metadata": {},
     "output_type": "display_data"
    }
   ],
   "source": [
    "import matplotlib\n",
    "import matplotlib.pyplot as plt\n",
    "\n",
    "matplotlib.rcParams['figure.figsize'] = (12.0, 6.0)\n",
    "fig=plt.figure()\n",
    "salePrice.hist()\n",
    "plt.xlabel('Sale Prices')\n",
    "plt.show()"
   ]
  },
  {
   "cell_type": "markdown",
   "metadata": {},
   "source": [
    "Now we are done with the target feature.However, there are 80 other features in train_data frame.The following code will determine numeric features,identify highly skewed features  (skewness > 0.75) and take the logarithmic."
   ]
  },
  {
   "cell_type": "code",
   "execution_count": 5,
   "metadata": {},
   "outputs": [
    {
     "name": "stdout",
     "output_type": "stream",
     "text": [
      "The identified skewed features: Index(['MSSubClass', 'LotFrontage', 'LotArea', 'MasVnrArea', 'BsmtFinSF1',\n",
      "       'BsmtFinSF2', 'BsmtUnfSF', 'TotalBsmtSF', '1stFlrSF', '2ndFlrSF',\n",
      "       'LowQualFinSF', 'GrLivArea', 'BsmtHalfBath', 'KitchenAbvGr',\n",
      "       'WoodDeckSF', 'OpenPorchSF', 'EnclosedPorch', '3SsnPorch',\n",
      "       'ScreenPorch', 'PoolArea', 'MiscVal', 'SalePrice'],\n",
      "      dtype='object')\n"
     ]
    }
   ],
   "source": [
    "num_cols=train_data._get_numeric_data().columns # identifying numerical features\n",
    "\n",
    "from scipy.stats import skew\n",
    "\n",
    "skewed_feats_vals = train_data[num_cols].apply(lambda x: skew(x.dropna())) #compute skewness\n",
    "\n",
    "skewed_feats_highvals=skewed_feats_vals[skewed_feats_vals>0.75] # finding out features that are highly skewed\n",
    "\n",
    "skewed_feats=skewed_feats_highvals.index\n",
    "\n",
    "print(\"The identified skewed features:\",skewed_feats)"
   ]
  },
  {
   "cell_type": "markdown",
   "metadata": {},
   "source": [
    "We alredy found the highly skewed features.Before applying logarithmic, it's required eliminate any null values.In this study, we will replace any null values with the mean values of the corresponding feature.(In part A, we deleted all the features with at least a missing value, knowing they are not necessary.However, in this study, we still don't)  "
   ]
  },
  {
   "cell_type": "code",
   "execution_count": 6,
   "metadata": {
    "collapsed": true
   },
   "outputs": [],
   "source": [
    "train_data=train_data.fillna(train_data.mean()) # replacing missing values with the mean value.\n",
    "\n",
    "train_data[skewed_feats]=np.log1p(train_data[skewed_feats]) # apply logarithmic"
   ]
  },
  {
   "cell_type": "markdown",
   "metadata": {},
   "source": [
    "# Preprocessing the data"
   ]
  },
  {
   "cell_type": "markdown",
   "metadata": {},
   "source": [
    "Assigning target data into y_train vector"
   ]
  },
  {
   "cell_type": "code",
   "execution_count": 7,
   "metadata": {
    "collapsed": true
   },
   "outputs": [],
   "source": [
    "y_train=train_data['SalePrice']"
   ]
  },
  {
   "cell_type": "markdown",
   "metadata": {},
   "source": [
    "Converting categorical fetures into dummy variables inorder to be consistant with requirements of sci-kit learn models."
   ]
  },
  {
   "cell_type": "code",
   "execution_count": 8,
   "metadata": {
    "collapsed": true
   },
   "outputs": [],
   "source": [
    "train_data=pd.get_dummies(train_data)"
   ]
  },
  {
   "cell_type": "markdown",
   "metadata": {},
   "source": [
    "After converting to dummy variables, list the new columns."
   ]
  },
  {
   "cell_type": "code",
   "execution_count": 9,
   "metadata": {},
   "outputs": [
    {
     "name": "stdout",
     "output_type": "stream",
     "text": [
      "coulmns after using dummies Index(['Id', 'MSSubClass', 'LotFrontage', 'LotArea', 'OverallQual',\n",
      "       'OverallCond', 'YearBuilt', 'YearRemodAdd', 'MasVnrArea', 'BsmtFinSF1',\n",
      "       ...\n",
      "       'SaleType_ConLw', 'SaleType_New', 'SaleType_Oth', 'SaleType_WD',\n",
      "       'SaleCondition_Abnorml', 'SaleCondition_AdjLand',\n",
      "       'SaleCondition_Alloca', 'SaleCondition_Family', 'SaleCondition_Normal',\n",
      "       'SaleCondition_Partial'],\n",
      "      dtype='object', length=290)\n"
     ]
    }
   ],
   "source": [
    "print('coulmns after using dummies',train_data.keys())"
   ]
  },
  {
   "cell_type": "markdown",
   "metadata": {},
   "source": [
    "Creating X data set by assigning all the features to x_train except 'SalePrice'."
   ]
  },
  {
   "cell_type": "code",
   "execution_count": 10,
   "metadata": {
    "collapsed": true
   },
   "outputs": [],
   "source": [
    "x_train=(train_data.loc[:,'MSSubClass':'SaleCondition_Partial']).drop('SalePrice',1)"
   ]
  },
  {
   "cell_type": "markdown",
   "metadata": {},
   "source": [
    "Splitting the data into training and testing sets.We use random_state=123 to randomize the data set."
   ]
  },
  {
   "cell_type": "code",
   "execution_count": 11,
   "metadata": {},
   "outputs": [
    {
     "name": "stderr",
     "output_type": "stream",
     "text": [
      "C:\\Users\\Madusanka\\Anaconda3\\lib\\site-packages\\sklearn\\cross_validation.py:44: DeprecationWarning: This module was deprecated in version 0.18 in favor of the model_selection module into which all the refactored classes and functions are moved. Also note that the interface of the new CV iterators are different from that of this module. This module will be removed in 0.20.\n",
      "  \"This module will be removed in 0.20.\", DeprecationWarning)\n"
     ]
    }
   ],
   "source": [
    "from sklearn.cross_validation import train_test_split\n",
    "\n",
    "X_train,X_test,y_train,y_test =train_test_split(x_train,y_train,test_size=0.3,random_state=123)"
   ]
  },
  {
   "cell_type": "markdown",
   "metadata": {},
   "source": [
    "Defining a method that calculates root mean square error (rmse) "
   ]
  },
  {
   "cell_type": "code",
   "execution_count": 12,
   "metadata": {
    "collapsed": true
   },
   "outputs": [],
   "source": [
    "from sklearn.model_selection import cross_val_score\n",
    "\n",
    "def rmse_cv(model):\n",
    "    rmse= np.sqrt(-cross_val_score(model, X_train, y_train, scoring=\"neg_mean_squared_error\", cv = 5))\n",
    "    return(rmse)"
   ]
  },
  {
   "cell_type": "markdown",
   "metadata": {},
   "source": [
    "# Using models for predictions"
   ]
  },
  {
   "cell_type": "markdown",
   "metadata": {},
   "source": [
    "We are going to use following models and find the best approach to predict the housing prices.\n",
    "\n",
    "a) Ridge regularization\n",
    "\n",
    "b) Lasso regularization\n",
    "\n",
    "c) Random forest regressor\n"
   ]
  },
  {
   "cell_type": "markdown",
   "metadata": {},
   "source": [
    "The following block of code will initialize both Ridge and Lasso models, predict the accuracy with alphas.This will help us to understabd the best alpha value (0r range) for each model. "
   ]
  },
  {
   "cell_type": "code",
   "execution_count": 13,
   "metadata": {
    "scrolled": false
   },
   "outputs": [
    {
     "name": "stderr",
     "output_type": "stream",
     "text": [
      "C:\\Users\\Madusanka\\Anaconda3\\lib\\site-packages\\sklearn\\model_selection\\_validation.py:238: UserWarning: With alpha=0, this algorithm does not converge well. You are advised to use the LinearRegression estimator\n",
      "  estimator.fit(X_train, y_train, **fit_params)\n",
      "C:\\Users\\Madusanka\\Anaconda3\\lib\\site-packages\\sklearn\\linear_model\\coordinate_descent.py:470: UserWarning: Coordinate descent with alpha=0 may lead to unexpected results and is discouraged.\n",
      "  positive)\n",
      "C:\\Users\\Madusanka\\Anaconda3\\lib\\site-packages\\sklearn\\linear_model\\coordinate_descent.py:484: ConvergenceWarning: Objective did not converge. You might want to increase the number of iterations. Fitting data with very small alpha may cause precision problems.\n",
      "  ConvergenceWarning)\n",
      "C:\\Users\\Madusanka\\Anaconda3\\lib\\site-packages\\sklearn\\model_selection\\_validation.py:238: UserWarning: With alpha=0, this algorithm does not converge well. You are advised to use the LinearRegression estimator\n",
      "  estimator.fit(X_train, y_train, **fit_params)\n",
      "C:\\Users\\Madusanka\\Anaconda3\\lib\\site-packages\\sklearn\\linear_model\\coordinate_descent.py:470: UserWarning: Coordinate descent with alpha=0 may lead to unexpected results and is discouraged.\n",
      "  positive)\n",
      "C:\\Users\\Madusanka\\Anaconda3\\lib\\site-packages\\sklearn\\linear_model\\coordinate_descent.py:484: ConvergenceWarning: Objective did not converge. You might want to increase the number of iterations. Fitting data with very small alpha may cause precision problems.\n",
      "  ConvergenceWarning)\n",
      "C:\\Users\\Madusanka\\Anaconda3\\lib\\site-packages\\sklearn\\model_selection\\_validation.py:238: UserWarning: With alpha=0, this algorithm does not converge well. You are advised to use the LinearRegression estimator\n",
      "  estimator.fit(X_train, y_train, **fit_params)\n",
      "C:\\Users\\Madusanka\\Anaconda3\\lib\\site-packages\\sklearn\\linear_model\\coordinate_descent.py:470: UserWarning: Coordinate descent with alpha=0 may lead to unexpected results and is discouraged.\n",
      "  positive)\n",
      "C:\\Users\\Madusanka\\Anaconda3\\lib\\site-packages\\sklearn\\linear_model\\coordinate_descent.py:484: ConvergenceWarning: Objective did not converge. You might want to increase the number of iterations. Fitting data with very small alpha may cause precision problems.\n",
      "  ConvergenceWarning)\n",
      "C:\\Users\\Madusanka\\Anaconda3\\lib\\site-packages\\sklearn\\model_selection\\_validation.py:238: UserWarning: With alpha=0, this algorithm does not converge well. You are advised to use the LinearRegression estimator\n",
      "  estimator.fit(X_train, y_train, **fit_params)\n",
      "C:\\Users\\Madusanka\\Anaconda3\\lib\\site-packages\\sklearn\\linear_model\\coordinate_descent.py:470: UserWarning: Coordinate descent with alpha=0 may lead to unexpected results and is discouraged.\n",
      "  positive)\n",
      "C:\\Users\\Madusanka\\Anaconda3\\lib\\site-packages\\sklearn\\linear_model\\coordinate_descent.py:484: ConvergenceWarning: Objective did not converge. You might want to increase the number of iterations. Fitting data with very small alpha may cause precision problems.\n",
      "  ConvergenceWarning)\n",
      "C:\\Users\\Madusanka\\Anaconda3\\lib\\site-packages\\sklearn\\model_selection\\_validation.py:238: UserWarning: With alpha=0, this algorithm does not converge well. You are advised to use the LinearRegression estimator\n",
      "  estimator.fit(X_train, y_train, **fit_params)\n",
      "C:\\Users\\Madusanka\\Anaconda3\\lib\\site-packages\\sklearn\\linear_model\\coordinate_descent.py:470: UserWarning: Coordinate descent with alpha=0 may lead to unexpected results and is discouraged.\n",
      "  positive)\n",
      "C:\\Users\\Madusanka\\Anaconda3\\lib\\site-packages\\sklearn\\linear_model\\coordinate_descent.py:484: ConvergenceWarning: Objective did not converge. You might want to increase the number of iterations. Fitting data with very small alpha may cause precision problems.\n",
      "  ConvergenceWarning)\n",
      "C:\\Users\\Madusanka\\Anaconda3\\lib\\site-packages\\sklearn\\linear_model\\coordinate_descent.py:484: ConvergenceWarning: Objective did not converge. You might want to increase the number of iterations. Fitting data with very small alpha may cause precision problems.\n",
      "  ConvergenceWarning)\n",
      "C:\\Users\\Madusanka\\Anaconda3\\lib\\site-packages\\sklearn\\linear_model\\coordinate_descent.py:484: ConvergenceWarning: Objective did not converge. You might want to increase the number of iterations. Fitting data with very small alpha may cause precision problems.\n",
      "  ConvergenceWarning)\n"
     ]
    },
    {
     "data": {
      "image/png": "[encoded data removed]",
      "text/plain": [
       "<matplotlib.figure.Figure at 0x5ea9669940>"
      ]
     },
     "metadata": {},
     "output_type": "display_data"
    }
   ],
   "source": [
    "from sklearn.linear_model import Ridge,RidgeCV,Lasso,LassoCV # importing the regularized models from sci-kit learn\n",
    "\n",
    "\n",
    "# Behavior of  Ridge model with different alphas\n",
    "#-----------------------------------------------\n",
    "#-----------------------------------------------\n",
    "\n",
    "fig=plt.figure()  \n",
    "ax= fig.add_subplot(1,2,1) # initailizing two subplots (1 X 2) and selecting the 1st subplot.\n",
    "\n",
    "model_ridge = Ridge()  # initializing the Ridge model\n",
    "alphas = [ 0.1, 0.3, 1, 3, 5, 10] # choosing a range of alpha to check the best value.\n",
    "cv_ridge = [rmse_cv(Ridge(alpha = alpha)).mean() # calculate rmse for each alpha\n",
    "            for alpha in alphas]\n",
    "cv_ridge = pd.Series(cv_ridge, index = alphas)\n",
    "cv_ridge.plot(title = \"Validation for Ridge model\") # plot rmse vs corresponding aplhas\n",
    "plt.xlabel(\"alpha\")\n",
    "plt.ylabel(\"rmse\")\n",
    "\n",
    "# Behavior of  Lasso model with different alphas\n",
    "#-----------------------------------------------\n",
    "#-----------------------------------------------\n",
    "\n",
    "\n",
    "ax= fig.add_subplot(1,2,2) # selcting the 2nd subplot\n",
    "model_lasso = Lasso()    # initializing Lasso model\n",
    "alphas = [0,0.001,0.0001,0.0005,0.002]  # choosing a range of alpha to check the best value.\n",
    "cv_lasso = [rmse_cv(Lasso(alpha = alpha)).mean() # calculate rmse for each alpha\n",
    "            for alpha in alphas]\n",
    "cv_ridge = pd.Series(cv_lasso, index = alphas)\n",
    "cv_ridge.plot(title = \"Validation for Lasso model\") # plot rmse vs corresponding aplhas\n",
    "plt.xlabel(\"alpha\")\n",
    "plt.ylabel(\"rmse\")\n",
    "\n",
    "plt.show()"
   ]
  },
  {
   "cell_type": "markdown",
   "metadata": {},
   "source": [
    "Next we use RidgeCV and LassoCV to train and predict the cross validation accuracy in single step.The above two graphs provide good basis to input a sequence of alpha values to obtain the best prediction."
   ]
  },
  {
   "cell_type": "code",
   "execution_count": 14,
   "metadata": {},
   "outputs": [
    {
     "name": "stdout",
     "output_type": "stream",
     "text": [
      "\n",
      "The root mean square error (RMSE) for Ridge model: 0.145685632423\n",
      "The model ridge alpha value: 10.0\n"
     ]
    },
    {
     "name": "stderr",
     "output_type": "stream",
     "text": [
      "C:\\Users\\Madusanka\\Anaconda3\\lib\\site-packages\\sklearn\\linear_model\\coordinate_descent.py:484: ConvergenceWarning: Objective did not converge. You might want to increase the number of iterations. Fitting data with very small alpha may cause precision problems.\n",
      "  ConvergenceWarning)\n",
      "C:\\Users\\Madusanka\\Anaconda3\\lib\\site-packages\\sklearn\\linear_model\\coordinate_descent.py:484: ConvergenceWarning: Objective did not converge. You might want to increase the number of iterations. Fitting data with very small alpha may cause precision problems.\n",
      "  ConvergenceWarning)\n",
      "C:\\Users\\Madusanka\\Anaconda3\\lib\\site-packages\\sklearn\\linear_model\\coordinate_descent.py:484: ConvergenceWarning: Objective did not converge. You might want to increase the number of iterations. Fitting data with very small alpha may cause precision problems.\n",
      "  ConvergenceWarning)\n",
      "C:\\Users\\Madusanka\\Anaconda3\\lib\\site-packages\\sklearn\\linear_model\\coordinate_descent.py:484: ConvergenceWarning: Objective did not converge. You might want to increase the number of iterations. Fitting data with very small alpha may cause precision problems.\n",
      "  ConvergenceWarning)\n",
      "C:\\Users\\Madusanka\\Anaconda3\\lib\\site-packages\\sklearn\\linear_model\\coordinate_descent.py:484: ConvergenceWarning: Objective did not converge. You might want to increase the number of iterations. Fitting data with very small alpha may cause precision problems.\n",
      "  ConvergenceWarning)\n",
      "C:\\Users\\Madusanka\\Anaconda3\\lib\\site-packages\\sklearn\\linear_model\\coordinate_descent.py:484: ConvergenceWarning: Objective did not converge. You might want to increase the number of iterations. Fitting data with very small alpha may cause precision problems.\n",
      "  ConvergenceWarning)\n"
     ]
    },
    {
     "name": "stdout",
     "output_type": "stream",
     "text": [
      "\n",
      "The root mean square error (RMSE) for Lasso model: 0.136920020237\n",
      "The model lasso alpha value: 0.001\n"
     ]
    }
   ],
   "source": [
    "# Using RidgeCV() to predict the values.\n",
    "#---------------------------------------\n",
    "#---------------------------------------\n",
    "\n",
    "alphs=[-1,0.00001,0.0001,0.0005,0.001,0.01,0.05,1,2,3,4,10,15,20]\n",
    "model_ridge=RidgeCV(alphas=alphs).fit(X_train,y_train)\n",
    "rmse= np.sqrt(-cross_val_score(model_ridge, X_train, y_train, scoring=\"neg_mean_squared_error\", cv = 5))\n",
    "rmse_ridge=rmse.mean()\n",
    "print('\\nThe root mean square error (RMSE) for Ridge model:',rmse_ridge) # the rmse value with this model\n",
    "print('The model ridge alpha value:',model_ridge.alpha_ ) # revealing the best alpha value, that was used \n",
    "\n",
    "\n",
    "# Using LassoCV() to predict the values.\n",
    "#---------------------------------------\n",
    "#---------------------------------------\n",
    "\n",
    "alphs=[-1,0.00001,0.0001,0.0005,0.001,0.01,0.05,1,2,3,4,10,15,20]\n",
    "model_lasso=LassoCV(alphas=alphs).fit(X_train,y_train)\n",
    "rmse= np.sqrt(-cross_val_score(model_lasso, X_train, y_train, scoring=\"neg_mean_squared_error\", cv = 5))\n",
    "rmse_lasso=rmse.mean()\n",
    "print('\\nThe root mean square error (RMSE) for Lasso model:',rmse_lasso) # the rmse value with this model\n",
    "print('The model lasso alpha value:',model_lasso.alpha_ )  # revealing the best alpha value, that was used "
   ]
  },
  {
   "cell_type": "markdown",
   "metadata": {},
   "source": [
    "The predictions (train and test data) are calculated separately from each model. "
   ]
  },
  {
   "cell_type": "code",
   "execution_count": 15,
   "metadata": {
    "collapsed": true
   },
   "outputs": [],
   "source": [
    "y_train_pred_ridge=model_ridge.predict(X_train)\n",
    "y_test_pred_ridge=model_ridge.predict(X_test)\n",
    "\n",
    "y_train_pred_lasso=model_lasso.predict(X_train)\n",
    "y_test_pred_lasso=model_lasso.predict(X_test)"
   ]
  },
  {
   "cell_type": "markdown",
   "metadata": {},
   "source": [
    "Calculating r2 score (Coeficient of determination) for each model."
   ]
  },
  {
   "cell_type": "code",
   "execution_count": 16,
   "metadata": {},
   "outputs": [
    {
     "name": "stdout",
     "output_type": "stream",
     "text": [
      "\n",
      "R^2 train model Lasso: 0.920141358426\n",
      "R^2 test model Lasso: 0.918793295445\n",
      "\n",
      "R^2 train model Ridge: 0.928943158269\n",
      "R^2 test model Ridge: 0.915634742869\n"
     ]
    }
   ],
   "source": [
    "from sklearn.metrics import r2_score\n",
    "\n",
    "print('\\nR^2 train model Lasso:',r2_score(y_train,y_train_pred_lasso))\n",
    "print('R^2 test model Lasso:', r2_score(y_test,y_test_pred_lasso))\n",
    "\n",
    "print('\\nR^2 train model Ridge:',r2_score(y_train,y_train_pred_ridge))\n",
    "print('R^2 test model Ridge:', r2_score(y_test,y_test_pred_ridge))"
   ]
  },
  {
   "cell_type": "markdown",
   "metadata": {},
   "source": [
    "Both models show impressive accuracy in their test data.Taking this study to the next level, random forest regressor will be tested as a potential predictive model."
   ]
  },
  {
   "cell_type": "code",
   "execution_count": 17,
   "metadata": {},
   "outputs": [
    {
     "name": "stdout",
     "output_type": "stream",
     "text": [
      "\n",
      "R^2 train Random Forest Regressor: 0.981192571898\n",
      "R^2 test Random Forest Regressor: 0.876973417613\n"
     ]
    }
   ],
   "source": [
    "from sklearn.ensemble import RandomForestRegressor\n",
    "\n",
    "model_forest=RandomForestRegressor(n_estimators=1000,criterion='mse',random_state=1,n_jobs=-1)\n",
    "model_forest.fit(X_train,y_train)\n",
    "y_train_pred_forest=model_forest.predict(X_train)\n",
    "y_test_pred_forest=model_forest.predict(X_test)\n",
    "\n",
    "print('\\nR^2 train Random Forest Regressor:',r2_score(y_train,y_train_pred_forest))\n",
    "print('R^2 test Random Forest Regressor:', r2_score(y_test,y_test_pred_forest))"
   ]
  },
  {
   "cell_type": "markdown",
   "metadata": {},
   "source": [
    "# Final results"
   ]
  },
  {
   "cell_type": "markdown",
   "metadata": {},
   "source": [
    "Although the training data has a higher fitting accuracy, the predictions on testing data is relatively lower.This may be due to the overfitting when training the model."
   ]
  },
  {
   "cell_type": "markdown",
   "metadata": {},
   "source": [
    "<html>\n",
    "<body>\n",
    "\n",
    "<table style=\"width:100%\">\n",
    "  <tr>\n",
    "    <th>Model</th>\n",
    "    <th>Training accuracy</th> \n",
    "    <th>Testing accuracy</th>\n",
    "  </tr>\n",
    "  <tr>\n",
    "    <td>Lasso model</td>\n",
    "    <td>0.9201</td>\n",
    "    <td>0.9187</td>\n",
    "  </tr>\n",
    "  <tr>\n",
    "    <td>Ridge model</td>\n",
    "    <td>0.9289</td>\n",
    "    <td>0.9156</td>\n",
    "  </tr>\n",
    "  <tr>\n",
    "    <td>Random forest</td>\n",
    "    <td>0.9811</td>\n",
    "    <td>0.8769</td>\n",
    "  </tr>\n",
    "    <tr>\n",
    "    <td>Linear Regression</td>\n",
    "    <td>0.7302</td>\n",
    "    <td>0.7076</td>\n",
    "  </tr>\n",
    "</table>\n",
    "\n",
    "</body>\n",
    "</html>\n",
    "\n"
   ]
  },
  {
   "cell_type": "markdown",
   "metadata": {},
   "source": [
    "It's clear that from the testing accuracy data, both Lasso and Ridge models demonstrate superioir results.We are going to use Lasso model to predict the values and visualize results using a residual plot."
   ]
  },
  {
   "cell_type": "code",
   "execution_count": 18,
   "metadata": {},
   "outputs": [
    {
     "data": {
      "image/png": "[encoded data removed]",
      "text/plain": [
       "<matplotlib.figure.Figure at 0x5ea9aebb00>"
      ]
     },
     "metadata": {},
     "output_type": "display_data"
    }
   ],
   "source": [
    "fig, ax =plt.subplots()\n",
    "\n",
    "plt.scatter(y_train_pred_lasso,y_train_pred_lasso-y_train, c='blue',marker='o', label='Training data')# residuals of traing data in blue\n",
    "plt.scatter(y_test_pred_lasso,y_test_pred_lasso-y_test, c='lightgreen',marker='s',label='Test data')# residuals of testing data in green\n",
    "\n",
    "plt.xlabel('Predicted values')\n",
    "plt.ylabel('Residuals')\n",
    "plt.legend(loc='upper left')\n",
    "plt.title('Lasso Regularization model')\n",
    "plt.hlines(y=0,xmin=10,xmax=14,lw=2,color='red') # plotting the y=0 line in red to indicate the residuals=0 reference.\n",
    "plt.xlim([10,14])\n",
    "plt.show()"
   ]
  },
  {
   "cell_type": "markdown",
   "metadata": {},
   "source": [
    "The above figure demostrates better results than the Linear Regression method that we've used in part A."
   ]
  },
  {
   "cell_type": "markdown",
   "metadata": {},
   "source": [
    "# References"
   ]
  },
  {
   "cell_type": "markdown",
   "metadata": {},
   "source": [
    "<html>\n",
    "<body>\n",
    "\n",
    "<ul style=\"list-style-type:disc\">\n",
    " <p> <li>Raschka et al., 2015, Python Machine Learning, 1st Edition (https://www.amazon.com/Python-Machine-Learning-Sebastian-Raschka-ebook/dp/B00YSILNL0)</li> </p>\n",
    "  \n",
    " <p> <li>Marcelino et al., 2017,Comprehensive data exploration with Python (https://www.kaggle.com/pmarcelino/comprehensive-data-exploration-with-python)</li></p>\n",
    "  \n",
    "  <p><li>Papiu et al., 2017,Regularized Linear Models (https://www.kaggle.com/apapiu/regularized-linear-models)</li></p>\n",
    "</ul>  \n",
    "\n",
    "</body>\n",
    "</html>\n"
   ]
  }
 ],
 "metadata": {
  "kernelspec": {
   "display_name": "Python 3",
   "language": "python",
   "name": "python3"
  },
  "language_info": {
   "codemirror_mode": {
    "name": "ipython",
    "version": 3
   },
   "file_extension": ".py",
   "mimetype": "text/x-python",
   "name": "python",
   "nbconvert_exporter": "python",
   "pygments_lexer": "ipython3",
   "version": "3.6.1"
  }
 },
 "nbformat": 4,
 "nbformat_minor": 2
}
